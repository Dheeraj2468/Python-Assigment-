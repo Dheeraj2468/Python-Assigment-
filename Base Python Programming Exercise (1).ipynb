{
 "cells": [
  {
   "cell_type": "markdown",
   "metadata": {},
   "source": [
    "## Python Basic Programming Exercises"
   ]
  },
  {
   "cell_type": "raw",
   "metadata": {},
   "source": [
    "Q1: What is the output of following expression\n",
    "    5 + 4 * 9 % (3 + 1) / 6 - 1\n",
    "    "
   ]
  },
  {
   "cell_type": "code",
   "execution_count": 35,
   "metadata": {},
   "outputs": [
    {
     "name": "stdout",
     "output_type": "stream",
     "text": [
      "4\n"
     ]
    }
   ],
   "source": [
    "# Evaluate the expression and convert to int\n",
    "result = int(5 + 4 * 9 % (3 + 1) / 6 - 1)\n",
    "\n",
    "# Print the integer result\n",
    "print(result)\n"
   ]
  },
  {
   "cell_type": "raw",
   "metadata": {},
   "source": [
    "Q2: Write a program to check if a Number is Odd or Even. Take number as a input from user at runtime."
   ]
  },
  {
   "cell_type": "code",
   "execution_count": 36,
   "metadata": {},
   "outputs": [
    {
     "name": "stdout",
     "output_type": "stream",
     "text": [
      "10 is even.\n"
     ]
    }
   ],
   "source": [
    "# Get input from the user\n",
    "number = int(input(\"Enter a number: \"))\n",
    "\n",
    "# Check if the number is odd or even\n",
    "if number % 2 == 0:\n",
    "    print(f\"{number} is even.\")\n",
    "else:\n",
    "    print(f\"{number} is odd.\")\n"
   ]
  },
  {
   "cell_type": "raw",
   "metadata": {},
   "source": [
    "Q3: Write a program to display the multiplication table by taking a number as input. \n",
    "    [Hint : Use print statement inside of a loop]"
   ]
  },
  {
   "cell_type": "code",
   "execution_count": 37,
   "metadata": {},
   "outputs": [
    {
     "name": "stdout",
     "output_type": "stream",
     "text": [
      "Multiplication Table for 8:\n",
      "8 x 1 = 8\n",
      "8 x 2 = 16\n",
      "8 x 3 = 24\n",
      "8 x 4 = 32\n",
      "8 x 5 = 40\n",
      "8 x 6 = 48\n",
      "8 x 7 = 56\n",
      "8 x 8 = 64\n",
      "8 x 9 = 72\n",
      "8 x 10 = 80\n"
     ]
    }
   ],
   "source": [
    "# Get input from the user\n",
    "number = int(input(\"Enter a number to display its multiplication table: \"))\n",
    "\n",
    "# Display the multiplication table\n",
    "print(f\"Multiplication Table for {number}:\")\n",
    "for i in range(1, 11):  # Loop from 1 to 10\n",
    "    result = number * i\n",
    "    print(f\"{number} x {i} = {result}\")\n",
    "\n"
   ]
  },
  {
   "cell_type": "raw",
   "metadata": {},
   "source": [
    "Q4: Write a program which will find all numbers between 2000 and 3200 which are divisible by 7 \n",
    "    but are not a multiple of 5.\n",
    " \n",
    "Note: The numbers obtained should be printed in a comma-separated sequence on a single line."
   ]
  },
  {
   "cell_type": "code",
   "execution_count": 38,
   "metadata": {},
   "outputs": [
    {
     "name": "stdout",
     "output_type": "stream",
     "text": [
      "2002,2009,2016,2023,2037,2044,2051,2058,2072,2079,2086,2093,2107,2114,2121,2128,2142,2149,2156,2163,2177,2184,2191,2198,2212,2219,2226,2233,2247,2254,2261,2268,2282,2289,2296,2303,2317,2324,2331,2338,2352,2359,2366,2373,2387,2394,2401,2408,2422,2429,2436,2443,2457,2464,2471,2478,2492,2499,2506,2513,2527,2534,2541,2548,2562,2569,2576,2583,2597,2604,2611,2618,2632,2639,2646,2653,2667,2674,2681,2688,2702,2709,2716,2723,2737,2744,2751,2758,2772,2779,2786,2793,2807,2814,2821,2828,2842,2849,2856,2863,2877,2884,2891,2898,2912,2919,2926,2933,2947,2954,2961,2968,2982,2989,2996,3003,3017,3024,3031,3038,3052,3059,3066,3073,3087,3094,3101,3108,3122,3129,3136,3143,3157,3164,3171,3178,3192,3199\n"
     ]
    }
   ],
   "source": [
    "# List to hold the numbers\n",
    "numbers = []\n",
    "\n",
    "# Loop through the range from 2000 to 3200\n",
    "for num in range(2000, 3201):\n",
    "    if num % 7 == 0 and num % 5 != 0:\n",
    "        numbers.append(str(num))  # Convert to string for joining\n",
    "\n",
    "# Join the numbers with a comma and print\n",
    "result = \",\".join(numbers)\n",
    "print(result)\n"
   ]
  },
  {
   "cell_type": "raw",
   "metadata": {},
   "source": [
    "Q5: Count the elements of each datatype inside the list and display in output\n",
    "    [2, 3, 'Py', '10', 1, 'SQL', 5.5, True, 3, 'John', None, 7]    "
   ]
  },
  {
   "cell_type": "code",
   "execution_count": 39,
   "metadata": {},
   "outputs": [
    {
     "name": "stdout",
     "output_type": "stream",
     "text": [
      "int: 5\n",
      "str: 4\n",
      "float: 1\n",
      "bool: 1\n",
      "NoneType: 1\n"
     ]
    }
   ],
   "source": [
    "# Given list\n",
    "elements = [2, 3, 'Py', '10', 1, 'SQL', 5.5, True, 3, 'John', None, 7]\n",
    "\n",
    "# Dictionary to hold counts of each datatype\n",
    "datatype_counts = {}\n",
    "\n",
    "# Iterate through the list and count datatypes\n",
    "for element in elements:\n",
    "    datatype = type(element)\n",
    "    if datatype in datatype_counts:\n",
    "        datatype_counts[datatype] += 1\n",
    "    else:\n",
    "        datatype_counts[datatype] = 1\n",
    "\n",
    "# Display the counts\n",
    "for datatype, count in datatype_counts.items():\n",
    "    print(f\"{datatype.__name__}: {count}\")\n"
   ]
  },
  {
   "cell_type": "raw",
   "metadata": {},
   "source": [
    "Q6: Add all values from the list with numeric datatypes \n",
    "    [2, 3, 'Py', '10', 1, 'SQL', 5.5, True, 3, 'John', None, 7] "
   ]
  },
  {
   "cell_type": "code",
   "execution_count": 40,
   "metadata": {},
   "outputs": [
    {
     "name": "stdout",
     "output_type": "stream",
     "text": [
      "The sum of all numeric values is: 22.5\n"
     ]
    }
   ],
   "source": [
    "# Given list\n",
    "elements = [2, 3, 'Py', '10', 1, 'SQL', 5.5, True, 3, 'John', None, 7]\n",
    "\n",
    "# Initialize the total sum\n",
    "total_sum = 0\n",
    "\n",
    "# Iterate through the list and sum numeric values\n",
    "for element in elements:\n",
    "    if isinstance(element, (int, float)):  # Check if the element is an int or float\n",
    "        total_sum += element\n",
    "\n",
    "# Display the total sum\n",
    "print(\"The sum of all numeric values is:\", total_sum)\n"
   ]
  },
  {
   "cell_type": "raw",
   "metadata": {},
   "source": [
    "Q7: Concat all str datatypes with hyphen as a delimiter\n",
    "    [2, 3, 'Py', '10', 1, 'SQL', 5.5, True, 3, 'John', None, 7] "
   ]
  },
  {
   "cell_type": "code",
   "execution_count": 41,
   "metadata": {},
   "outputs": [
    {
     "name": "stdout",
     "output_type": "stream",
     "text": [
      "Concatenated string: Py-10-SQL-John\n"
     ]
    }
   ],
   "source": [
    "# Given list\n",
    "elements = [2, 3, 'Py', '10', 1, 'SQL', 5.5, True, 3, 'John', None, 7]\n",
    "\n",
    "# Initialize a list to hold string elements\n",
    "string_elements = []\n",
    "\n",
    "# Iterate through the list and collect string elements\n",
    "for element in elements:\n",
    "    if isinstance(element, str):  # Check if the element is a string\n",
    "        string_elements.append(element)\n",
    "\n",
    "# Concatenate the string elements with a hyphen\n",
    "result = '-'.join(string_elements)\n",
    "\n",
    "# Display the result\n",
    "print(\"Concatenated string:\", result)\n",
    "\n"
   ]
  },
  {
   "cell_type": "raw",
   "metadata": {},
   "source": [
    "Q8 Get only odd numbers from the following list and store the numbers in new list\n",
    "    li = [5, 7, 22, 97, 54, 62, 77, 23, 73, 61]\n",
    "\n",
    "    i. Use loops to get the answer\n",
    "   ii. Use list comprehensions\n",
    "  iii. Use lambda function with filter"
   ]
  },
  {
   "cell_type": "code",
   "execution_count": 42,
   "metadata": {},
   "outputs": [
    {
     "name": "stdout",
     "output_type": "stream",
     "text": [
      "Odd numbers using loops: [5, 7, 97, 77, 23, 73, 61]\n",
      "Odd numbers using list comprehension: [5, 7, 97, 77, 23, 73, 61]\n",
      "Odd numbers using lambda and filter: [5, 7, 97, 77, 23, 73, 61]\n"
     ]
    }
   ],
   "source": [
    "li = [5, 7, 22, 97, 54, 62, 77, 23, 73, 61]\n",
    "\n",
    "# Using loops to get odd numbers\n",
    "odd_numbers_loop = []\n",
    "for number in li:\n",
    "    if number % 2 != 0:  # Check if the number is odd\n",
    "        odd_numbers_loop.append(number)\n",
    "\n",
    "print(\"Odd numbers using loops:\", odd_numbers_loop)\n",
    "\n",
    "# Using list comprehension to get odd numbers\n",
    "odd_numbers_comprehension = [number for number in li if number % 2 != 0]\n",
    "\n",
    "print(\"Odd numbers using list comprehension:\", odd_numbers_comprehension)\n",
    "\n",
    "# Using lambda function with filter to get odd numbers\n",
    "odd_numbers_lambda = list(filter(lambda x: x % 2 != 0, li))\n",
    "\n",
    "print(\"Odd numbers using lambda and filter:\", odd_numbers_lambda)\n"
   ]
  },
  {
   "cell_type": "raw",
   "metadata": {},
   "source": [
    "Q9: Write an udf to calculate the area of different shapes\n",
    "\n",
    "Take shape and dimensions as arguments to udf as follows : \n",
    "\n",
    "1. square which has side\n",
    "2. rectangle which has length and width\n",
    "3. circle which has radius\n",
    "\n",
    "The shape should be a positional argument and it's dimensions are taken as kwargs\n",
    "\n",
    "Perform proper validation for the user inputs and then calculate area.\n",
    "\n",
    "E.g. if shape is square, ensure kwargs has \"side\" and if so, then you may return the area, else display appropriate error message like \"Please enter 'side' for a square\""
   ]
  },
  {
   "cell_type": "code",
   "execution_count": 45,
   "metadata": {},
   "outputs": [
    {
     "name": "stdout",
     "output_type": "stream",
     "text": [
      "Area: 2827.431\n"
     ]
    }
   ],
   "source": [
    "def calculate_area(shape, **kwargs):\n",
    "    \"\"\"Calculate the area of different shapes\"\"\"\n",
    "    if shape == \"square\":\n",
    "        if \"side\" in kwargs:\n",
    "            side = kwargs[\"side\"]\n",
    "            if side <= 0:\n",
    "                return \"Side must be a positive number.\"\n",
    "            return side ** 2\n",
    "        else:\n",
    "            return \"Please enter 'side' for a square.\"\n",
    "\n",
    "    elif shape == \"rectangle\":\n",
    "        if \"length\" in kwargs and \"width\" in kwargs:\n",
    "            length = kwargs[\"length\"]\n",
    "            width = kwargs[\"width\"]\n",
    "            if length <= 0 or width <= 0:\n",
    "                return \"Length and width must be positive numbers.\"\n",
    "            return length * width\n",
    "        else:\n",
    "            return \"Please enter 'length' and 'width' for a rectangle.\"\n",
    "\n",
    "    elif shape == \"circle\":\n",
    "        if \"radius\" in kwargs:\n",
    "            radius = kwargs[\"radius\"]\n",
    "            if radius <= 0:\n",
    "                return \"Radius must be a positive number.\"\n",
    "            return 3.14159 * (radius ** 2)  # Using Pi approximation\n",
    "        else:\n",
    "            return \"Please enter 'radius' for a circle.\"\n",
    "\n",
    "    else:\n",
    "        return \"Unsupported shape. Please use 'square', 'rectangle', or 'circle'.\"\n",
    "\n",
    "# Example usage\n",
    "if __name__ == \"__main__\":\n",
    "    shape = input(\"Enter the shape (square, rectangle, circle): \").strip().lower()\n",
    "\n",
    "    if shape == \"square\":\n",
    "        side = float(input(\"Enter the side length: \"))\n",
    "        area = calculate_area(shape, side=side)\n",
    "    elif shape == \"rectangle\":\n",
    "        length = float(input(\"Enter the length: \"))\n",
    "        width = float(input(\"Enter the width: \"))\n",
    "        area = calculate_area(shape, length=length, width=width)\n",
    "    elif shape == \"circle\":\n",
    "        radius = float(input(\"Enter the radius: \"))\n",
    "        area = calculate_area(shape, radius=radius)\n",
    "    else:\n",
    "        area = \"Unsupported shape.\"\n",
    "\n",
    "    print(\"Area:\", area)\n"
   ]
  },
  {
   "cell_type": "raw",
   "metadata": {
    "collapsed": true,
    "jupyter": {
     "outputs_hidden": true
    }
   },
   "source": [
    "Q10: write a UDF to check if a number is prime or not."
   ]
  },
  {
   "cell_type": "raw",
   "metadata": {
    "collapsed": true,
    "jupyter": {
     "outputs_hidden": true
    },
    "vscode": {
     "languageId": "raw"
    }
   },
   "source": [
    "def is_prime(num):\n",
    "    if num <= 1:\n",
    "        return False\n",
    "    for i in range(2, int(num**0.5) + 1):\n",
    "        if num % i == 0:\n",
    "            return False\n",
    "    return True\n",
    "\n",
    "number = int(input(\"Enter a number: \"))\n",
    "if is_prime(number):\n",
    "    print(f\"{number} is a prime number.\")\n",
    "else:\n",
    "    print(f\"{number} is not a prime number.\")\n"
   ]
  },
  {
   "cell_type": "raw",
   "metadata": {
    "collapsed": true,
    "jupyter": {
     "outputs_hidden": true
    },
    "vscode": {
     "languageId": "raw"
    }
   },
   "source": [
    "Q11. Write a program that takes a string and returns reversed string. i.e. if input is \"abcd123\" output should be \"321dcba\""
   ]
  },
  {
   "cell_type": "code",
   "execution_count": 44,
   "metadata": {},
   "outputs": [
    {
     "name": "stdout",
     "output_type": "stream",
     "text": [
      "Reversed string: 321dcba\n"
     ]
    }
   ],
   "source": [
    "# Get input from the user\n",
    "input_string = input(\"Enter a string: \")\n",
    "\n",
    "# Reverse the string using slicing\n",
    "reversed_string = input_string[::-1]\n",
    "\n",
    "# Display the reversed string\n",
    "print(\"Reversed string:\", reversed_string)\n"
   ]
  },
  {
   "cell_type": "code",
   "execution_count": null,
   "metadata": {},
   "outputs": [],
   "source": []
  }
 ],
 "metadata": {
  "kernelspec": {
   "display_name": "Python 3 (ipykernel)",
   "language": "python",
   "name": "python3"
  },
  "language_info": {
   "codemirror_mode": {
    "name": "ipython",
    "version": 3
   },
   "file_extension": ".py",
   "mimetype": "text/x-python",
   "name": "python",
   "nbconvert_exporter": "python",
   "pygments_lexer": "ipython3",
   "version": "3.12.4"
  },
  "varInspector": {
   "cols": {
    "lenName": 16,
    "lenType": 16,
    "lenVar": 40
   },
   "kernels_config": {
    "python": {
     "delete_cmd_postfix": "",
     "delete_cmd_prefix": "del ",
     "library": "var_list.py",
     "varRefreshCmd": "print(var_dic_list())"
    },
    "r": {
     "delete_cmd_postfix": ") ",
     "delete_cmd_prefix": "rm(",
     "library": "var_list.r",
     "varRefreshCmd": "cat(var_dic_list()) "
    }
   },
   "types_to_exclude": [
    "module",
    "function",
    "builtin_function_or_method",
    "instance",
    "_Feature"
   ],
   "window_display": false
  }
 },
 "nbformat": 4,
 "nbformat_minor": 4
}
